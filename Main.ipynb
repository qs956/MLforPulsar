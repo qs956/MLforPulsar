{
 "cells": [
  {
   "cell_type": "markdown",
   "metadata": {},
   "source": [
    "# Switch"
   ]
  },
  {
   "cell_type": "markdown",
   "metadata": {
    "ExecuteTime": {
     "end_time": "2020-03-13T06:34:05.046175Z",
     "start_time": "2020-03-13T06:34:05.043180Z"
    }
   },
   "source": [
    "## This notebook mainly focus on following. Turn the part on by setting 1 otherwise it will load the pre-train result."
   ]
  },
  {
   "cell_type": "code",
   "execution_count": 1,
   "metadata": {
    "ExecuteTime": {
     "end_time": "2020-03-13T06:37:57.675652Z",
     "start_time": "2020-03-13T06:37:57.669654Z"
    }
   },
   "outputs": [],
   "source": [
    "switch = {\n",
    "    'DataInput and Sampling':1,\n",
    "    'Single feature Search':0,\n",
    "    'Single feature Evaluate':1,\n",
    "    'Two feature Search':0,\n",
    "    'Two feature Evaluate':1,\n",
    "    'Three feature Search':0,\n",
    "    'Three feature Evaluate':1,\n",
    "    'Four feature Search':0,\n",
    "    'Four feature Evaluate':1,\n",
    "    'RF feature Search':0,\n",
    "    'RF feature Evaluate':1,\n",
    "}"
   ]
  },
  {
   "cell_type": "code",
   "execution_count": null,
   "metadata": {
    "ExecuteTime": {
     "end_time": "2020-03-13T06:37:59.473043Z",
     "start_time": "2020-03-13T06:37:57.678630Z"
    },
    "scrolled": true
   },
   "outputs": [],
   "source": [
    "import numpy as np\n",
    "from program import pretreat\n",
    "import pandas as pd\n",
    "from tqdm import tqdm\n",
    "from itertools import combinations\n",
    "from copy import deepcopy as dcp"
   ]
  },
  {
   "cell_type": "code",
   "execution_count": null,
   "metadata": {
    "ExecuteTime": {
     "end_time": "2020-03-13T06:38:01.504224Z",
     "start_time": "2020-03-13T06:37:59.476040Z"
    }
   },
   "outputs": [],
   "source": [
    "if (switch['DataInput and Sampling']):\n",
    "    df,title = pretreat.input()\n",
    "    X=df[:,1:19]\n",
    "    print(X.shape)\n",
    "    y = np.array(df[:,0],dtype=np.int) \n",
    "    pretreat.kfoldsampling(X,y)"
   ]
  },
  {
   "cell_type": "markdown",
   "metadata": {},
   "source": [
    "# DataInput and Sampling"
   ]
  },
  {
   "cell_type": "code",
   "execution_count": 4,
   "metadata": {
    "ExecuteTime": {
     "end_time": "2020-03-13T06:38:01.572992Z",
     "start_time": "2020-03-13T06:38:01.506180Z"
    }
   },
   "outputs": [],
   "source": [
    "set_name = ['','s','u','o']#No sampling,smote,under sampling,over sampling\n",
    "train=[]\n",
    "test=[]\n",
    "for i in set_name:\n",
    "    train.append((\n",
    "                np.load(r'result/train_set/'+i+'xtrain.npy'),\n",
    "                np.load(r'result/train_set/'+i+'ytrain.npy')\n",
    "    ))\n",
    "    test.append((\n",
    "                np.load(r'result/test_set/'+i+'xtest.npy'),\n",
    "                np.load(r'result/test_set/'+i+'ytest.npy')\n",
    "    ))"
   ]
  },
  {
   "cell_type": "code",
   "execution_count": 5,
   "metadata": {
    "ExecuteTime": {
     "end_time": "2020-03-13T06:38:01.604913Z",
     "start_time": "2020-03-13T06:38:01.574992Z"
    }
   },
   "outputs": [
    {
     "name": "stdout",
     "output_type": "stream",
     "text": [
      "Nums of sample: 44436 Feature of each sample: 18\n",
      "Nums of sample: 87680 Feature of each sample: 18\n",
      "Nums of sample: 1192 Feature of each sample: 18\n",
      "Nums of sample: 87680 Feature of each sample: 18\n"
     ]
    }
   ],
   "source": [
    "for i in range(len(train)):\n",
    "    print('Nums of sample:',train[i][0].shape[0],'Feature of each sample:',train[i][0].shape[1])"
   ]
  },
  {
   "cell_type": "markdown",
   "metadata": {},
   "source": [
    "# Single feature"
   ]
  },
  {
   "cell_type": "code",
   "execution_count": 6,
   "metadata": {
    "ExecuteTime": {
     "end_time": "2020-03-13T06:38:01.642797Z",
     "start_time": "2020-03-13T06:38:01.607902Z"
    }
   },
   "outputs": [],
   "source": [
    "from program import classify\n",
    "from program import metrics"
   ]
  },
  {
   "cell_type": "code",
   "execution_count": 7,
   "metadata": {
    "ExecuteTime": {
     "end_time": "2020-03-13T06:38:01.659749Z",
     "start_time": "2020-03-13T06:38:01.646786Z"
    },
    "scrolled": true
   },
   "outputs": [],
   "source": [
    "if (switch['Single feature Search']):\n",
    "    for j in range(len(set_name)):\n",
    "        performance_single = []\n",
    "        for k in classify.clf:\n",
    "            for i in tqdm(range(train[0][0].shape[1])):\n",
    "                performance_single.append(metrics.performance(k,train[j][0],train[j][1],test[j][0],test[j][1],[i]))\n",
    "        np.save(r'result/performance/'+set_name[j]+'single_performance.npy',performance_single)"
   ]
  },
  {
   "cell_type": "code",
   "execution_count": 8,
   "metadata": {
    "ExecuteTime": {
     "end_time": "2020-03-13T06:38:02.861434Z",
     "start_time": "2020-03-13T06:38:01.662742Z"
    }
   },
   "outputs": [
    {
     "name": "stdout",
     "output_type": "stream",
     "text": [
      "sampling index: [10, 10, 10, 10]\n",
      "              Recall Precision    F1   FN    FP Train Time(s) Test Time(s)\n",
      "Decision Tree    0.8      0.94  0.86  121    28           0.1        0.003\n",
      "Adaboost        0.78      0.97  0.87  130    15             4          1.2\n",
      "Xgboost         0.78      0.94  0.86  129    29           2.6         0.19\n",
      "Gboost          0.79      0.13  0.22  128  3131           3.6         0.21\n",
      "---------------------------------------------------------------\n",
      "ssampling index: [1, 5, 5, 5]\n",
      "              Recall Precision    F1  FN    FP Train Time(s) Test Time(s)\n",
      "Decision Tree   0.98      0.32  0.48  12  1263          0.19        0.003\n",
      "Adaboost        0.98      0.32  0.48  12  1234           7.7          1.1\n",
      "Xgboost         0.98      0.32  0.48  12  1234           4.4         0.16\n",
      "Gboost          0.98      0.32  0.48  12  1243           7.2         0.13\n",
      "---------------------------------------------------------------\n",
      "usampling index: [1, 1, 5, 1]\n",
      "              Recall Precision    F1  FN    FP Train Time(s) Test Time(s)\n",
      "Decision Tree   0.98      0.29  0.45   9  1421         0.001        0.003\n",
      "Adaboost        0.98      0.29  0.45   9  1421          0.33          1.1\n",
      "Xgboost         0.98       0.3  0.46  14  1353         0.085         0.15\n",
      "Gboost          0.96      0.27  0.42  24  1582           0.2         0.13\n",
      "---------------------------------------------------------------\n",
      "osampling index: [4, 5, 4, 4]\n",
      "              Recall Precision    F1  FN     FP Train Time(s) Test Time(s)\n",
      "Decision Tree   0.99      0.01  0.03   7  40907         0.015        0.002\n",
      "Adaboost        0.98      0.32  0.48  12   1252           6.9          1.1\n",
      "Xgboost         0.99      0.01  0.03   8  40115           3.2         0.14\n",
      "Gboost          0.99      0.01  0.03   7  40907           3.2         0.11\n",
      "---------------------------------------------------------------\n"
     ]
    }
   ],
   "source": [
    "if (switch['Single feature Evaluate']):\n",
    "    pd.set_option('precision', 2)\n",
    "    single_index = []\n",
    "    for j in range(len(set_name)):\n",
    "        index = []\n",
    "        per = np.load(r'result/performance/'+set_name[j]+'single_performance.npy',allow_pickle = True)\n",
    "        show = []\n",
    "        for i in range(4):\n",
    "            no = int(per.shape[0]/4)\n",
    "            temp = per[no*i:no*(i+1),:]\n",
    "            if (np.max(temp[:,2])<0.95):\n",
    "                index.append(np.argmax(temp[:,2]))\n",
    "            else:\n",
    "                for k in temp:\n",
    "                    if (k[2]<0.95):\n",
    "                        k[3] = 0\n",
    "                index.append(np.argmax(temp[:,3]))\n",
    "            show.append(index[-1]+i*no)\n",
    "        print(set_name[j]+'sampling index:',[k+1 for k in index])\n",
    "        print(pd.DataFrame(per[show,2:],index=('Decision Tree','Adaboost','Xgboost','Gboost'),\n",
    "              columns=('Recall','Precision','F1','FN','FP','Train Time(s)','Test Time(s)')))\n",
    "        print('---------------------------------------------------------------')\n",
    "        single_index.append(dcp(show))\n",
    "    np.save(r'result/index/single_index.npy',single_index)\n",
    "    #The index shown here starts at 1, but the saved index starts at 0\n",
    "else:\n",
    "    single_index = np.load(r'result/index/single_index.npy')"
   ]
  },
  {
   "cell_type": "markdown",
   "metadata": {},
   "source": [
    "# Two feature"
   ]
  },
  {
   "cell_type": "code",
   "execution_count": 9,
   "metadata": {
    "ExecuteTime": {
     "end_time": "2020-03-13T06:38:02.878388Z",
     "start_time": "2020-03-13T06:38:02.864427Z"
    },
    "scrolled": true
   },
   "outputs": [],
   "source": [
    "if (switch['Two feature Search']):\n",
    "    for j in range(len(set_name)):\n",
    "        performance_two = []\n",
    "        for k in classify.clf:\n",
    "            for i in tqdm(combinations(range(0,train[0][0].shape[1]), 2)):\n",
    "                performance_two.append(metrics.performance(k,train[j][0],train[j][1],test[j][0],test[j][1],i))\n",
    "        np.save(r'result/performance/'+set_name[j]+'two_performance.npy',performance_two)"
   ]
  },
  {
   "cell_type": "code",
   "execution_count": 10,
   "metadata": {
    "ExecuteTime": {
     "end_time": "2020-03-13T06:38:12.691001Z",
     "start_time": "2020-03-13T06:38:02.881383Z"
    }
   },
   "outputs": [
    {
     "name": "stdout",
     "output_type": "stream",
     "text": [
      "sampling index: [(2, 9), (4, 9), (1, 9), (1, 9)]\n",
      "              Recall Precision    F1  FN  FP Train Time(s) Test Time(s)\n",
      "Decision Tree   0.91      0.93  0.92  56  42         0.096        0.003\n",
      "Adaboost         0.9      0.93  0.91  62  43           5.4          1.1\n",
      "Xgboost         0.91      0.96  0.93  51  25           2.6         0.24\n",
      "Gboost          0.91      0.93  0.92  55  43           5.3         0.16\n",
      "---------------------------------------------------------------\n",
      "ssampling index: [(0, 9), (0, 9), (0, 9), (0, 9)]\n",
      "              Recall Precision    F1  FN   FP Train Time(s) Test Time(s)\n",
      "Decision Tree   0.98      0.68   0.8  11  281          0.19        0.003\n",
      "Adaboost        0.99      0.67   0.8   7  293            11          1.1\n",
      "Xgboost         0.98      0.68   0.8  12  280           4.9         0.17\n",
      "Gboost          0.98      0.69  0.81  14  267            11         0.13\n",
      "---------------------------------------------------------------\n",
      "usampling index: [(0, 8), (0, 9), (0, 9), (0, 9)]\n",
      "              Recall Precision    F1  FN   FP Train Time(s) Test Time(s)\n",
      "Decision Tree   0.96      0.55   0.7  21  467         0.002        0.002\n",
      "Adaboost        0.99      0.58  0.73   6  433          0.37          1.1\n",
      "Xgboost         0.99      0.59  0.74   7  416         0.075        0.072\n",
      "Gboost          0.99      0.58  0.73   6  434          0.16        0.086\n",
      "---------------------------------------------------------------\n",
      "osampling index: [(1, 9), (5, 9), (1, 9), (1, 9)]\n",
      "              Recall Precision    F1  FN   FP Train Time(s) Test Time(s)\n",
      "Decision Tree   0.95       0.8  0.87  28  138          0.11        0.003\n",
      "Adaboost        0.97      0.64  0.77  19  330             9          1.1\n",
      "Xgboost         0.95      0.82  0.88  27  125           4.4         0.26\n",
      "Gboost          0.94      0.89  0.91  35   70           9.1         0.19\n",
      "---------------------------------------------------------------\n"
     ]
    }
   ],
   "source": [
    "if (switch['Two feature Evaluate']):\n",
    "    pd.set_option('precision', 2)\n",
    "    two_index = []\n",
    "    all = [i for i in combinations(range(0,train[0][0].shape[1]), 2)]\n",
    "    for j in range(len(set_name)):\n",
    "        index = []\n",
    "        per = np.load(r'result/performance/'+set_name[j]+'two_performance.npy',allow_pickle = True)\n",
    "        show = []\n",
    "        for i in range(4):\n",
    "            no = int(per.shape[0]/4)\n",
    "            temp = per[no*i:no*(i+1),:]\n",
    "            if (np.max(temp[:,2])<0.95):\n",
    "                index.append(all[np.argmax(temp[:,2])])\n",
    "                show.append(np.argmax(temp[:,2])+i*no)\n",
    "            else:\n",
    "                for k in temp:\n",
    "                    if (k[2]<0.95):\n",
    "                        k[3] = 0\n",
    "                index.append(all[np.argmax(temp[:,3])])\n",
    "                show.append(np.argmax(temp[:,3])+i*no)\n",
    "        print(set_name[j]+'sampling index:',index)#The index here start from 0\n",
    "        print(pd.DataFrame(per[show,2:],index=('Decision Tree','Adaboost','Xgboost','Gboost'),\n",
    "              columns=('Recall','Precision','F1','FN','FP','Train Time(s)','Test Time(s)')))\n",
    "        print('---------------------------------------------------------------')\n",
    "        two_index.append(dcp(show))\n",
    "    np.save(r'result/index/two_index.npy',two_index)\n",
    "else:\n",
    "    two_index = np.load(r'result/index/two_index.npy')"
   ]
  },
  {
   "cell_type": "markdown",
   "metadata": {},
   "source": [
    "# Three feature"
   ]
  },
  {
   "cell_type": "code",
   "execution_count": 11,
   "metadata": {
    "ExecuteTime": {
     "end_time": "2020-03-13T06:38:12.703991Z",
     "start_time": "2020-03-13T06:38:12.693987Z"
    }
   },
   "outputs": [],
   "source": [
    "from sklearn.feature_selection import RFECV as RFE"
   ]
  },
  {
   "cell_type": "code",
   "execution_count": 12,
   "metadata": {
    "ExecuteTime": {
     "end_time": "2020-03-13T06:38:12.731919Z",
     "start_time": "2020-03-13T06:38:12.706952Z"
    }
   },
   "outputs": [],
   "source": [
    "if (switch['Three feature Search']):\n",
    "    three_index = []\n",
    "    index_list = np.array([i for i in range(train[0][0].shape[1])])\n",
    "    for j in range(len(set_name)):\n",
    "        performance_three = []\n",
    "        index = []\n",
    "        for k in tqdm(classify.clf):\n",
    "            rfe = RFE(estimator = k, min_features_to_select = 3, step = 1, cv = 3, scoring = 'recall')\n",
    "            temp = metrics.performance_rfe(rfe,train[j][0],train[j][1],test[j][0],test[j][1])\n",
    "            performance_three.append(temp[1:])\n",
    "            index.append(index_list[temp[0]])\n",
    "        three_index.append(dcp(index))\n",
    "        np.save(r'result/performance/'+set_name[j]+'three_performance.npy',performance_three)\n",
    "        np.save(r'result/index/three_index.npy',three_index)"
   ]
  },
  {
   "cell_type": "code",
   "execution_count": 13,
   "metadata": {
    "ExecuteTime": {
     "end_time": "2020-03-13T06:38:12.846611Z",
     "start_time": "2020-03-13T06:38:12.733916Z"
    }
   },
   "outputs": [
    {
     "name": "stdout",
     "output_type": "stream",
     "text": [
      "Feature index:\n",
      "[2 4 9]\n",
      "[ 0  1  2  3  4  7  8  9 10 11 14 15 16 17]\n",
      "[ 0  1  2  3  4  5  7  8  9 10 11 13]\n",
      "[2 7 9]\n",
      "              Recall Precision    F1  FN  FP Train Time(s) Test Time(s)\n",
      "Decision Tree   0.95      0.97  0.96  31  15            13        0.004\n",
      "Adaboost        0.97      0.99  0.98  19   7       7.5e+02          2.1\n",
      "Xgboost         0.97      0.98  0.97  19  11         4e+02         0.19\n",
      "Gboost          0.96      0.98  0.97  21  14       4.3e+02         0.13\n",
      "---------------------------------------------------------------\n",
      "Feature index:\n",
      "[ 1  3  4  8  9 10 16]\n",
      "[ 0  1  2  4  7  8  9 10 11]\n",
      "[ 0  1  2  3  4  5  6  7  8  9 10 11 12 13 14 15 16]\n",
      "[ 0  1  2  3  4  7  9 10 11]\n",
      "              Recall Precision    F1  FN  FP Train Time(s) Test Time(s)\n",
      "Decision Tree   0.97      0.89  0.93  18  74            42        0.007\n",
      "Adaboost        0.99      0.86  0.92   8  98       1.7e+03          1.6\n",
      "Xgboost         0.98      0.95  0.96  13  33       7.5e+02         0.23\n",
      "Gboost          0.98      0.95  0.96  11  34       1.5e+03         0.15\n",
      "---------------------------------------------------------------\n",
      "Feature index:\n",
      "[1 4 9]\n",
      "[ 2  4  5  9 11 15]\n",
      "[0 1 3 4 7 9]\n",
      "[ 0  4  9 10]\n",
      "              Recall Precision    F1  FN   FP Train Time(s) Test Time(s)\n",
      "Decision Tree   0.98      0.51  0.67  10  567          0.29        0.007\n",
      "Adaboost        0.99      0.62  0.76   5  368            38          1.5\n",
      "Xgboost         0.99      0.69  0.82   5  262            30        0.093\n",
      "Gboost          0.98      0.61  0.75  12  371            10        0.062\n",
      "---------------------------------------------------------------\n",
      "Feature index:\n",
      "[ 0  9 13]\n",
      "[ 2  4  8 15]\n",
      "[0 4 9]\n",
      "[ 0  9 13]\n",
      "              Recall Precision    F1  FN   FP Train Time(s) Test Time(s)\n",
      "Decision Tree   0.97      0.75  0.85  18  189            16        0.005\n",
      "Adaboost        0.99      0.74  0.85   4  207       1.4e+03          1.2\n",
      "Xgboost         0.96      0.78  0.86  23  159       8.3e+02         0.17\n",
      "Gboost          0.91      0.84  0.87  53  105       1.1e+03         0.16\n",
      "---------------------------------------------------------------\n"
     ]
    }
   ],
   "source": [
    "if (switch['Three feature Evaluate']):\n",
    "    pd.set_option('precision', 2)\n",
    "    three_index = np.load(r'result/index/three_index.npy',allow_pickle = True)\n",
    "    for j in range(len(set_name)):\n",
    "        performance_three = np.load(r'result/performance/'+set_name[j]+'three_performance.npy',allow_pickle = True)\n",
    "        print('Feature index:')\n",
    "        for k in three_index[j]:\n",
    "            print(k)\n",
    "        print(pd.DataFrame(performance_three[:,2:],index=('Decision Tree','Adaboost','Xgboost','Gboost'),\n",
    "              columns=('Recall','Precision','F1','FN','FP','Train Time(s)','Test Time(s)')))\n",
    "        print('---------------------------------------------------------------')"
   ]
  },
  {
   "cell_type": "markdown",
   "metadata": {},
   "source": [
    "# Four feature"
   ]
  },
  {
   "cell_type": "code",
   "execution_count": 14,
   "metadata": {
    "ExecuteTime": {
     "end_time": "2020-03-13T06:38:12.875521Z",
     "start_time": "2020-03-13T06:38:12.849590Z"
    }
   },
   "outputs": [],
   "source": [
    "if (switch['Four feature Search']):\n",
    "    four_index = []\n",
    "    index_list = np.array([i for i in range(train[0][0].shape[1])])\n",
    "    for j in range(len(set_name)):\n",
    "        performance_four = []\n",
    "        index = []\n",
    "        for k in tqdm(classify.clf):\n",
    "            rfe = RFE(estimator = k, min_features_to_select = 4, step = 1, cv = 3, scoring = 'recall')\n",
    "            temp = metrics.performance_rfe(rfe,train[j][0],train[j][1],test[j][0],test[j][1])\n",
    "            performance_four.append(temp[1:])\n",
    "            index.append(index_list[temp[0]])\n",
    "        four_index.append(dcp(index))\n",
    "        np.save(r'result/performance/'+set_name[j]+'four_performance.npy',performance_four)\n",
    "        np.save(r'result/index/four_index.npy',four_index)"
   ]
  },
  {
   "cell_type": "code",
   "execution_count": 15,
   "metadata": {
    "ExecuteTime": {
     "end_time": "2020-03-13T06:38:12.981221Z",
     "start_time": "2020-03-13T06:38:12.878507Z"
    }
   },
   "outputs": [
    {
     "name": "stdout",
     "output_type": "stream",
     "text": [
      "Feature index:\n",
      "[1 2 4 9]\n",
      "[ 0  1  2  3  4  7  8  9 10 11 14 15 16 17]\n",
      "[ 0  1  2  3  4  5  7  8  9 10 11 13]\n",
      "[ 1  2  4  9 10]\n",
      "              Recall Precision    F1  FN  FP Train Time(s) Test Time(s)\n",
      "Decision Tree   0.95      0.98  0.96  31  14            13        0.006\n",
      "Adaboost        0.97      0.99  0.98  19   7       7.4e+02          1.9\n",
      "Xgboost         0.97      0.98  0.97  19  11         4e+02         0.17\n",
      "Gboost          0.97      0.98  0.97  20  14         4e+02        0.099\n",
      "---------------------------------------------------------------\n",
      "Feature index:\n",
      "[ 1  3  4  8  9 10 16]\n",
      "[ 0  1  2  4  7  8  9 10 11]\n",
      "[ 0  1  2  3  4  5  6  7  8  9 10 11 12 13 14 15 16]\n",
      "[ 0  1  2  3  4  7  8  9 10 11 16]\n",
      "              Recall Precision    F1  FN  FP Train Time(s) Test Time(s)\n",
      "Decision Tree   0.97      0.89  0.93  18  70            40        0.007\n",
      "Adaboost        0.99      0.86  0.92   8  98       1.7e+03          1.6\n",
      "Xgboost         0.98      0.95  0.96  13  33       7.5e+02         0.24\n",
      "Gboost          0.98      0.95  0.96  11  34       1.4e+03         0.14\n",
      "---------------------------------------------------------------\n",
      "Feature index:\n",
      "[ 0  1  2  3  4  5  6  7  8  9 10 11 12 13 14 15 16 17]\n",
      "[ 2  4  5  9 11 15]\n",
      "[0 1 3 4 7 9]\n",
      "[ 0  4  9 10]\n",
      "              Recall Precision    F1  FN   FP Train Time(s) Test Time(s)\n",
      "Decision Tree   0.98      0.52  0.68  11  549           0.2        0.012\n",
      "Adaboost        0.99      0.62  0.76   5  368            35          1.4\n",
      "Xgboost         0.99      0.69  0.82   5  262            26        0.069\n",
      "Gboost          0.98      0.61  0.75  13  376           9.3        0.064\n",
      "---------------------------------------------------------------\n",
      "Feature index:\n",
      "[ 0  3  9 13]\n",
      "[ 2  4  8 15]\n",
      "[0 4 7 9]\n",
      "[ 0  4  9 13]\n",
      "              Recall Precision    F1  FN   FP Train Time(s) Test Time(s)\n",
      "Decision Tree   0.96      0.84  0.89  24  112            15        0.004\n",
      "Adaboost        0.99      0.74  0.85   4  207       1.3e+03          1.2\n",
      "Xgboost         0.97      0.84   0.9  20  107       8.2e+02          0.2\n",
      "Gboost          0.92      0.83  0.87  47  113         1e+03         0.15\n",
      "---------------------------------------------------------------\n"
     ]
    }
   ],
   "source": [
    "if (switch['Four feature Evaluate']):\n",
    "    pd.set_option('precision', 2)\n",
    "    four_index = np.load(r'result/index/four_index.npy',allow_pickle = True)\n",
    "    for j in range(len(set_name)):\n",
    "        performance_four = np.load(r'result/performance/'+set_name[j]+'four_performance.npy',allow_pickle = True)\n",
    "        print('Feature index:')\n",
    "        for k in four_index[j]:\n",
    "            print(k)\n",
    "        print(pd.DataFrame(performance_four[:,2:],index=('Decision Tree','Adaboost','Xgboost','Gboost'),\n",
    "              columns=('Recall','Precision','F1','FN','FP','Train Time(s)','Test Time(s)')))\n",
    "        print('---------------------------------------------------------------')"
   ]
  },
  {
   "cell_type": "markdown",
   "metadata": {},
   "source": [
    "# Random Forest"
   ]
  },
  {
   "cell_type": "code",
   "execution_count": 16,
   "metadata": {
    "ExecuteTime": {
     "end_time": "2020-03-13T06:38:13.004155Z",
     "start_time": "2020-03-13T06:38:12.983216Z"
    }
   },
   "outputs": [],
   "source": [
    "if (switch['RF feature Search']):\n",
    "    rf_performance = []\n",
    "    for j in tqdm(range(len(set_name))):\n",
    "        rf_performance.append(metrics.performance_rfc(classify.rfc,train[j][0],train[j][1],test[j][0],test[j][1]))\n",
    "    np.save(r'result/performance/rfc_performance.npy',rf_performance)\n",
    "    temp = [i[2] for i in rf_performance]\n",
    "    index = []\n",
    "    for j in temp:\n",
    "        index.append(np.argsort(j))\n",
    "    print(index)\n",
    "    np.save(r'result/index/rfc_index.npy',index)\n",
    "    rf_performance = []\n",
    "    for j in tqdm(range(len(set_name))):\n",
    "        rf_performance.append(metrics.performance_rfc(classify.rfc,train[j][0][:,index[j][-4:]],train[j][1],test[j][0][:,index[j][-4:]],test[j][1]))\n",
    "    np.save(r'result/performance/rfc_4_performance.npy',rf_performance)"
   ]
  },
  {
   "cell_type": "code",
   "execution_count": 17,
   "metadata": {
    "ExecuteTime": {
     "end_time": "2020-03-13T06:38:13.065981Z",
     "start_time": "2020-03-13T06:38:13.006153Z"
    }
   },
   "outputs": [
    {
     "name": "stdout",
     "output_type": "stream",
     "text": [
      "All feature\n",
      "                Recall  Precision    F1  FN   FP  Train Time(s)  Test Time(s)\n",
      "No sampling       0.95       0.99  0.97  27    5         111.47          3.24\n",
      "Smote             0.98       0.94  0.96  12   38         305.76          3.12\n",
      "Under sampling    0.99       0.66  0.79   5  309           2.49          2.88\n",
      "Over Sampling     0.97       0.96  0.97  16   26         123.11          2.96\n",
      "---------------------------------------------------------------\n",
      "Feature index:\n",
      "[[ 1 14  8  9]\n",
      " [ 9  7  0  4]\n",
      " [ 9  7  0  4]\n",
      " [ 9  7  4  0]]\n",
      "                Recall  Precision    F1  FN   FP  Train Time(s)  Test Time(s)\n",
      "No sampling       0.94       0.98  0.96  36   14          89.08          4.02\n",
      "Smote             0.98       0.76  0.85  13  189         152.62          2.92\n",
      "Under sampling    0.98       0.59  0.73  11  411           1.84          2.67\n",
      "Over Sampling     0.96       0.80  0.87  22  143          71.00          3.05\n"
     ]
    }
   ],
   "source": [
    "if (switch['RF feature Evaluate']):\n",
    "    pd.set_option('precision', 2)\n",
    "    per = np.load(r'result/performance/rfc_performance.npy',allow_pickle = True)\n",
    "    show = []\n",
    "    for j in range(len(set_name)):\n",
    "        show.append(per[j][3:])\n",
    "    print('All feature')\n",
    "    print(pd.DataFrame(show,index=('No sampling','Smote','Under sampling','Over Sampling'),\n",
    "          columns=('Recall','Precision','F1','FN','FP','Train Time(s)','Test Time(s)')))\n",
    "    print('---------------------------------------------------------------')\n",
    "    print('Feature index:')\n",
    "    index = np.load(r'result/index/rfc_index.npy')\n",
    "    print(index[:,-4:])\n",
    "    per = np.load(r'result/performance/rfc_4_performance.npy',allow_pickle = True)\n",
    "    show = []\n",
    "    for j in range(len(set_name)):\n",
    "        show.append(per[j][3:])\n",
    "    print(pd.DataFrame(show,index=('No sampling','Smote','Under sampling','Over Sampling'),\n",
    "          columns=('Recall','Precision','F1','FN','FP','Train Time(s)','Test Time(s)')))"
   ]
  }
 ],
 "metadata": {
  "kernelspec": {
   "display_name": "Python 3",
   "language": "python",
   "name": "python3"
  },
  "language_info": {
   "codemirror_mode": {
    "name": "ipython",
    "version": 3
   },
   "file_extension": ".py",
   "mimetype": "text/x-python",
   "name": "python",
   "nbconvert_exporter": "python",
   "pygments_lexer": "ipython3",
   "version": "3.6.4"
  },
  "toc": {
   "base_numbering": 1,
   "nav_menu": {},
   "number_sections": true,
   "sideBar": true,
   "skip_h1_title": false,
   "title_cell": "Table of Contents",
   "title_sidebar": "Contents",
   "toc_cell": false,
   "toc_position": {},
   "toc_section_display": true,
   "toc_window_display": false
  },
  "varInspector": {
   "cols": {
    "lenName": 16,
    "lenType": 16,
    "lenVar": 40
   },
   "kernels_config": {
    "python": {
     "delete_cmd_postfix": "",
     "delete_cmd_prefix": "del ",
     "library": "var_list.py",
     "varRefreshCmd": "print(var_dic_list())"
    },
    "r": {
     "delete_cmd_postfix": ") ",
     "delete_cmd_prefix": "rm(",
     "library": "var_list.r",
     "varRefreshCmd": "cat(var_dic_list()) "
    }
   },
   "types_to_exclude": [
    "module",
    "function",
    "builtin_function_or_method",
    "instance",
    "_Feature"
   ],
   "window_display": false
  }
 },
 "nbformat": 4,
 "nbformat_minor": 4
}
